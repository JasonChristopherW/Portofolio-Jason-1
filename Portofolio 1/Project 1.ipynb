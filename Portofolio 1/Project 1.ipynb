{
  "nbformat": 4,
  "nbformat_minor": 0,
  "metadata": {
    "colab": {
      "name": "2301865016_ANN.ipynb",
      "provenance": []
    },
    "kernelspec": {
      "name": "python3",
      "display_name": "Python 3"
    },
    "language_info": {
      "name": "python"
    }
  },
  "cells": [
    {
      "cell_type": "code",
      "metadata": {
        "id": "kMV2AQFp9SnO"
      },
      "source": [
        "# !pip install tensorflow==1.15"
      ],
      "execution_count": null,
      "outputs": []
    },
    {
      "cell_type": "code",
      "metadata": {
        "colab": {
          "base_uri": "https://localhost:8080/",
          "height": 35
        },
        "id": "hs7m2GrOQfbk",
        "outputId": "17fe6083-0909-4f36-d616-fe3378e7e33d"
      },
      "source": [
        "import pandas as pd\n",
        "import tensorflow as tf \n",
        "import numpy as np\n",
        "import matplotlib.pyplot as plt\n",
        "import seaborn as sns\n",
        "from sklearn import metrics\n",
        "from sklearn.preprocessing import MinMaxScaler, OneHotEncoder\n",
        "from sklearn.model_selection import train_test_split\n",
        "from sklearn.compose import ColumnTransformer\n",
        "tf.__version__"
      ],
      "execution_count": null,
      "outputs": [
        {
          "output_type": "execute_result",
          "data": {
            "application/vnd.google.colaboratory.intrinsic+json": {
              "type": "string"
            },
            "text/plain": [
              "'1.15.0'"
            ]
          },
          "metadata": {},
          "execution_count": 2
        }
      ]
    },
    {
      "cell_type": "code",
      "metadata": {
        "id": "waLkuRQ4Rmj4"
      },
      "source": [
        "def load_data():\n",
        "    data = pd.read_csv('dataset.csv')\n",
        "    features = data[['Age','Sex','BP','Cholesterol','Na_to_K']]\n",
        "    label = data[['Drug']]\n",
        "\n",
        "    return features, label"
      ],
      "execution_count": null,
      "outputs": []
    },
    {
      "cell_type": "code",
      "metadata": {
        "id": "pM1UMzGGTnV6"
      },
      "source": [
        "features, label = load_data()"
      ],
      "execution_count": null,
      "outputs": []
    },
    {
      "cell_type": "code",
      "metadata": {
        "id": "6XbYolUXYbkY"
      },
      "source": [
        "transformer = ColumnTransformer([('transform', OneHotEncoder(), [1,2,3])])\n",
        "features = np.array(transformer.fit_transform(features), dtype=np.float)"
      ],
      "execution_count": null,
      "outputs": []
    },
    {
      "cell_type": "code",
      "metadata": {
        "id": "9xrCijE_V7hN"
      },
      "source": [
        "x_train, x_test, y_train, y_test = train_test_split(features, label, test_size=0.2)"
      ],
      "execution_count": null,
      "outputs": []
    },
    {
      "cell_type": "code",
      "metadata": {
        "id": "UxnvOyPtT0A7"
      },
      "source": [
        "scaler = MinMaxScaler().fit(x_train)\n",
        "x_train = scaler.transform(x_train)\n",
        "x_test = scaler.transform(x_test)"
      ],
      "execution_count": null,
      "outputs": []
    },
    {
      "cell_type": "code",
      "metadata": {
        "id": "A8rDxNsZaW6x"
      },
      "source": [
        "encoder = OneHotEncoder().fit(y_train)\n",
        "y_train = encoder.transform(y_train).toarray()\n",
        "y_test = encoder.transform(y_test).toarray()"
      ],
      "execution_count": null,
      "outputs": []
    },
    {
      "cell_type": "code",
      "metadata": {
        "id": "FtLIc0KUat76"
      },
      "source": [
        "x_train, x_test = x_train.astype('float32'), x_test.astype('float32')\n",
        "y_train, y_test = y_train.astype('float32'), y_test.astype('float32')"
      ],
      "execution_count": null,
      "outputs": []
    },
    {
      "cell_type": "code",
      "metadata": {
        "id": "oyNYDHbibE-2"
      },
      "source": [
        "EPOCH = 4000\n",
        "ALPHA = 0.01\n",
        "n_features = x_train.shape[1]\n",
        "n_classes = y_train.shape[1]"
      ],
      "execution_count": null,
      "outputs": []
    },
    {
      "cell_type": "code",
      "metadata": {
        "id": "b1rhWW1Ubgx7"
      },
      "source": [
        "input_tensor = tf.placeholder(tf.float32)\n",
        "label_tensor = tf.placeholder(tf.float32)"
      ],
      "execution_count": null,
      "outputs": []
    },
    {
      "cell_type": "code",
      "metadata": {
        "id": "aP1fQYgabjn_"
      },
      "source": [
        "neurons = [8, 8, n_classes]\n",
        "n_layers = len(neurons)"
      ],
      "execution_count": null,
      "outputs": []
    },
    {
      "cell_type": "code",
      "metadata": {
        "id": "QqFFWX64bps8"
      },
      "source": [
        "parameters = {}\n",
        "for i in range(n_layers):\n",
        "  parameters[f'W{i+1}'] = tf.Variable(\n",
        "      tf.random.normal([\n",
        "          n_features if (i == 0) else neurons[i-1], neurons[i]\n",
        "      ]),\n",
        "      tf.float32\n",
        "  )\n",
        "\n",
        "  parameters[f'B{i+1}'] = tf.Variable(\n",
        "      tf.random.normal(\n",
        "          [1, neurons[i]]\n",
        "      ),\n",
        "      tf.float32\n",
        "  )"
      ],
      "execution_count": null,
      "outputs": []
    },
    {
      "cell_type": "code",
      "metadata": {
        "id": "pAGkZQwmbwJH"
      },
      "source": [
        "def forward():\n",
        "  a = input_tensor\n",
        "  for i in range(n_layers):\n",
        "    w = parameters[f'W{i+1}']\n",
        "    b = parameters[f'B{i+1}']\n",
        "\n",
        "    z = tf.matmul(a, w) + b\n",
        "    a = tf.nn.sigmoid(z)\n",
        "  return a"
      ],
      "execution_count": null,
      "outputs": []
    },
    {
      "cell_type": "code",
      "metadata": {
        "colab": {
          "base_uri": "https://localhost:8080/"
        },
        "id": "oq_hLMJecEVI",
        "outputId": "5faa8020-f82a-4065-d596-285ed443fc45"
      },
      "source": [
        "with tf.Session() as sess:\n",
        "  logits_tensor = forward()\n",
        "  loss_tensor = tf.reduce_mean(0.5 * (label_tensor - logits_tensor) ** 2)\n",
        "  true_preds_tensor = tf.equal(tf.argmax(logits_tensor, axis=1), tf.argmax(label_tensor, axis=1))\n",
        "  acc_tensor = tf.reduce_mean(tf.cast(true_preds_tensor, tf.float32))\n",
        "  optimizer = tf.train.GradientDescentOptimizer(ALPHA).minimize(loss_tensor)\n",
        "\n",
        "  sess.run(tf.global_variables_initializer())\n",
        "  for i in range(1, EPOCH+1):\n",
        "    sess.run(optimizer, feed_dict={\n",
        "        input_tensor:x_train,\n",
        "        label_tensor:y_train\n",
        "    })\n",
        "    loss = sess.run(loss_tensor, feed_dict={\n",
        "        input_tensor:x_train,\n",
        "        label_tensor:y_train\n",
        "    })\n",
        "    val_acc = sess.run(acc_tensor, feed_dict={\n",
        "        input_tensor:x_test,\n",
        "        label_tensor:y_test\n",
        "    })\n",
        "\n",
        "    if i % 200 == 0:\n",
        "      print(f'Epoch {i} - Loss {loss:.7f}')\n",
        "    if i == 4000:\n",
        "      print(f'Evaluation Accuracy {(val_acc * 100):.2f}%')"
      ],
      "execution_count": null,
      "outputs": [
        {
          "output_type": "stream",
          "name": "stdout",
          "text": [
            "WARNING:tensorflow:From /usr/local/lib/python3.7/dist-packages/tensorflow_core/python/ops/math_grad.py:1375: where (from tensorflow.python.ops.array_ops) is deprecated and will be removed in a future version.\n",
            "Instructions for updating:\n",
            "Use tf.where in 2.0, which has the same broadcast rule as np.where\n",
            "Epoch 200 - Loss 0.2506754\n",
            "Epoch 400 - Loss 0.2458012\n",
            "Epoch 600 - Loss 0.2406672\n",
            "Epoch 800 - Loss 0.2352954\n",
            "Epoch 1000 - Loss 0.2296925\n",
            "Epoch 1200 - Loss 0.2238283\n",
            "Epoch 1400 - Loss 0.2176263\n",
            "Epoch 1600 - Loss 0.2109869\n",
            "Epoch 1800 - Loss 0.2038569\n",
            "Epoch 2000 - Loss 0.1963353\n",
            "Epoch 2200 - Loss 0.1887500\n",
            "Epoch 2400 - Loss 0.1816005\n",
            "Epoch 2600 - Loss 0.1753481\n",
            "Epoch 2800 - Loss 0.1702246\n",
            "Epoch 3000 - Loss 0.1662092\n",
            "Epoch 3200 - Loss 0.1631346\n",
            "Epoch 3400 - Loss 0.1607954\n",
            "Epoch 3600 - Loss 0.1590081\n",
            "Epoch 3800 - Loss 0.1576281\n",
            "Epoch 4000 - Loss 0.1565482\n",
            "Evaluation Accuracy 22.50%\n"
          ]
        }
      ]
    }
  ]
}